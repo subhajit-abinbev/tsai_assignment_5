{
 "cells": [
  {
   "cell_type": "markdown",
   "id": "4cb4e5a0",
   "metadata": {},
   "source": [
    "# Import Libraries"
   ]
  },
  {
   "cell_type": "code",
   "execution_count": 29,
   "id": "3a2a55b5",
   "metadata": {},
   "outputs": [],
   "source": [
    "import torch\n",
    "from torchvision import datasets, transforms\n",
    "import torch.nn as nn\n",
    "import torch.nn.functional as F\n",
    "import matplotlib.pyplot as plt\n",
    "import torch.optim as optim\n",
    "from torchsummary import summary\n",
    "from torch.optim.lr_scheduler import CosineAnnealingLR"
   ]
  },
  {
   "cell_type": "markdown",
   "id": "f2adcb8a",
   "metadata": {},
   "source": [
    "# Preprocessing and loading the MNIST dataset"
   ]
  },
  {
   "cell_type": "markdown",
   "id": "7760268d",
   "metadata": {},
   "source": [
    "## Check CUDA"
   ]
  },
  {
   "cell_type": "code",
   "execution_count": 21,
   "id": "e3a7b7d9",
   "metadata": {},
   "outputs": [
    {
     "name": "stdout",
     "output_type": "stream",
     "text": [
      "CUDA Available? True\n"
     ]
    }
   ],
   "source": [
    "# CUDA?\n",
    "cuda = torch.cuda.is_available()\n",
    "print(\"CUDA Available?\", cuda)"
   ]
  },
  {
   "cell_type": "markdown",
   "id": "73ef56fc",
   "metadata": {},
   "source": [
    "## MNIST Dataset Mean and Std Dev"
   ]
  },
  {
   "cell_type": "code",
   "execution_count": 22,
   "id": "d4e5d98a",
   "metadata": {},
   "outputs": [
    {
     "name": "stdout",
     "output_type": "stream",
     "text": [
      "tensor(0.1307) tensor(0.3081)\n"
     ]
    }
   ],
   "source": [
    "trainset = datasets.MNIST(root='./data', train=True, download=True, transform=transforms.ToTensor())\n",
    "\n",
    "loader = torch.utils.data.DataLoader(trainset, batch_size=len(trainset), shuffle=False)\n",
    "images, _ = next(iter(loader))\n",
    "print(images.mean(), images.std())\n",
    "\n",
    "train_mean = images.mean()\n",
    "train_std = images.std()"
   ]
  },
  {
   "cell_type": "markdown",
   "id": "9d4fd538",
   "metadata": {},
   "source": [
    "## Load Data"
   ]
  },
  {
   "cell_type": "code",
   "execution_count": 23,
   "id": "266d3069",
   "metadata": {},
   "outputs": [],
   "source": [
    "# Transform: convert to tensor + normalize\n",
    "transform = transforms.Compose([\n",
    "    transforms.ToTensor(),\n",
    "    transforms.Normalize((train_mean,), (train_std,))  # mean and standard deviation as calculated above\n",
    "])\n",
    "\n",
    "trainset = datasets.MNIST(root='./data', train=True, download=True, transform=transform)\n",
    "testset = datasets.MNIST(root='./data', train=False, download=True, transform=transform)\n",
    "\n",
    "trainloader = torch.utils.data.DataLoader(trainset, batch_size=128, shuffle=True)\n",
    "testloader = torch.utils.data.DataLoader(testset, batch_size=2000, shuffle=False)\n"
   ]
  },
  {
   "cell_type": "markdown",
   "id": "605a681b",
   "metadata": {},
   "source": [
    "# Visualize Data"
   ]
  },
  {
   "cell_type": "code",
   "execution_count": 24,
   "id": "d61a6ca4",
   "metadata": {},
   "outputs": [
    {
     "data": {
      "image/png": "[encoded data removed]",
      "text/plain": [
       "<Figure size 640x480 with 12 Axes>"
      ]
     },
     "metadata": {},
     "output_type": "display_data"
    }
   ],
   "source": [
    "batch_data, batch_label = next(iter(trainloader))\n",
    "\n",
    "fig = plt.figure()\n",
    "\n",
    "for i in range(12):\n",
    "  plt.subplot(3,4,i+1)\n",
    "  plt.tight_layout()\n",
    "  plt.imshow(batch_data[i].squeeze(0), cmap='gray')\n",
    "  plt.title(batch_label[i].item())\n",
    "  plt.xticks([])\n",
    "  plt.yticks([])"
   ]
  },
  {
   "cell_type": "markdown",
   "id": "db765b6f",
   "metadata": {},
   "source": [
    "# Modelling"
   ]
  },
  {
   "cell_type": "markdown",
   "id": "90570e28",
   "metadata": {},
   "source": [
    "## Model Architecture"
   ]
  },
  {
   "cell_type": "code",
   "execution_count": 34,
   "id": "091a6fd2",
   "metadata": {},
   "outputs": [],
   "source": [
    "class CNN_Model(nn.Module):\n",
    "    def __init__(self):\n",
    "        super(CNN_Model, self).__init__()\n",
    "        self.conv1 = nn.Conv2d(1, 12, 3, padding=1)\n",
    "        self.bn1 = nn.BatchNorm2d(12)\n",
    "        self.conv2 = nn.Conv2d(12, 24, 3, padding=1)\n",
    "        self.bn2 = nn.BatchNorm2d(24)\n",
    "        self.pool1 = nn.MaxPool2d(2, 2)\n",
    "\n",
    "        self.conv3 = nn.Conv2d(24, 48, 3, padding=1)\n",
    "        self.bn3 = nn.BatchNorm2d(48)\n",
    "        self.conv4 = nn.Conv2d(48, 48, 3, padding=1)\n",
    "        self.bn4 = nn.BatchNorm2d(48)\n",
    "        self.pool2 = nn.MaxPool2d(2, 2)\n",
    "\n",
    "        self.conv5 = nn.Conv2d(48, 64, 3, padding=1)\n",
    "        self.bn5 = nn.BatchNorm2d(64)\n",
    "        self.conv6 = nn.Conv2d(64, 64, 3, padding=1)\n",
    "        self.bn6 = nn.BatchNorm2d(64)\n",
    "\n",
    "        self.gap = nn.AdaptiveAvgPool2d(1)  # Global Average Pooling\n",
    "        self.dropout = nn.Dropout(0.1)\n",
    "        self.fc = nn.Linear(64, 10)\n",
    "\n",
    "    def forward(self, x):\n",
    "        x = self.conv1(x)\n",
    "        x = self.bn1(x)\n",
    "        x = F.relu(x)\n",
    "        \n",
    "        x = self.conv2(x)\n",
    "        x = self.bn2(x)\n",
    "        x = F.relu(x)\n",
    "        \n",
    "        x = self.pool1(x)\n",
    "\n",
    "        x = self.conv3(x)\n",
    "        x = self.bn3(x)\n",
    "        x = F.relu(x)\n",
    "\n",
    "        x = self.conv4(x)\n",
    "        x = self.bn4(x)\n",
    "        x = F.relu(x)\n",
    "\n",
    "        x = self.pool2(x)\n",
    "\n",
    "        x = self.conv5(x)\n",
    "        x = self.bn5(x)\n",
    "        x = F.relu(x)\n",
    "\n",
    "        x = self.conv6(x)\n",
    "        x = self.bn6(x)\n",
    "        x = F.relu(x)\n",
    "\n",
    "        x = self.gap(x)\n",
    "        \n",
    "        x = x.view(-1, 64)\n",
    "        x = self.dropout(x)\n",
    "        x = self.fc(x)\n",
    "        return x"
   ]
  },
  {
   "cell_type": "markdown",
   "id": "6d86572b",
   "metadata": {},
   "source": [
    "## Model Training (20 Epochs)"
   ]
  },
  {
   "cell_type": "code",
   "execution_count": 35,
   "id": "02189842",
   "metadata": {},
   "outputs": [
    {
     "name": "stdout",
     "output_type": "stream",
     "text": [
      "Epoch [1/20] - Train Loss: 0.2731, Train Acc: 94.94% - Test Loss: 0.0636, Test Acc: 98.39%\n",
      "Epoch [2/20] - Train Loss: 0.0425, Train Acc: 98.98% - Test Loss: 0.0452, Test Acc: 98.73%\n",
      "Epoch [3/20] - Train Loss: 0.0303, Train Acc: 99.15% - Test Loss: 0.0477, Test Acc: 98.42%\n",
      "Epoch [4/20] - Train Loss: 0.0232, Train Acc: 99.34% - Test Loss: 0.0244, Test Acc: 99.18%\n",
      "Epoch [5/20] - Train Loss: 0.0202, Train Acc: 99.43% - Test Loss: 0.0341, Test Acc: 98.85%\n",
      "Epoch [6/20] - Train Loss: 0.0166, Train Acc: 99.52% - Test Loss: 0.0352, Test Acc: 98.88%\n",
      "Epoch [7/20] - Train Loss: 0.0120, Train Acc: 99.65% - Test Loss: 0.0296, Test Acc: 99.10%\n",
      "Epoch [8/20] - Train Loss: 0.0112, Train Acc: 99.66% - Test Loss: 0.0400, Test Acc: 98.69%\n",
      "Epoch [9/20] - Train Loss: 0.0086, Train Acc: 99.76% - Test Loss: 0.0169, Test Acc: 99.52%\n",
      "Epoch [10/20] - Train Loss: 0.0065, Train Acc: 99.83% - Test Loss: 0.0295, Test Acc: 99.12%\n",
      "Epoch [11/20] - Train Loss: 0.0052, Train Acc: 99.86% - Test Loss: 0.0174, Test Acc: 99.46%\n",
      "Epoch [12/20] - Train Loss: 0.0036, Train Acc: 99.91% - Test Loss: 0.0153, Test Acc: 99.55%\n",
      "Epoch [13/20] - Train Loss: 0.0023, Train Acc: 99.96% - Test Loss: 0.0158, Test Acc: 99.50%\n",
      "Epoch [14/20] - Train Loss: 0.0014, Train Acc: 99.98% - Test Loss: 0.0186, Test Acc: 99.47%\n",
      "Epoch [15/20] - Train Loss: 0.0015, Train Acc: 99.98% - Test Loss: 0.0143, Test Acc: 99.46%\n",
      "Epoch [16/20] - Train Loss: 0.0009, Train Acc: 99.99% - Test Loss: 0.0142, Test Acc: 99.57%\n",
      "Epoch [17/20] - Train Loss: 0.0007, Train Acc: 100.00% - Test Loss: 0.0160, Test Acc: 99.51%\n",
      "Epoch [18/20] - Train Loss: 0.0006, Train Acc: 100.00% - Test Loss: 0.0157, Test Acc: 99.55%\n",
      "Epoch [19/20] - Train Loss: 0.0005, Train Acc: 100.00% - Test Loss: 0.0149, Test Acc: 99.54%\n",
      "Epoch [20/20] - Train Loss: 0.0005, Train Acc: 100.00% - Test Loss: 0.0152, Test Acc: 99.55%\n",
      "Training completed!\n"
     ]
    }
   ],
   "source": [
    "device = torch.device(\"cuda\" if torch.cuda.is_available() else \"cpu\")\n",
    "model = CNN_Model().to(device)\n",
    "\n",
    "criterion = nn.CrossEntropyLoss()\n",
    "optimizer = optim.AdamW(model.parameters(), lr=0.001, weight_decay=1e-4)\n",
    "scheduler = CosineAnnealingLR(optimizer, T_max=20)\n",
    "\n",
    "# Lists to store training statistics\n",
    "train_losses = []\n",
    "train_accuracies = []\n",
    "test_losses = []\n",
    "test_accuracies = []\n",
    "\n",
    "# Training loop for 20 epochs\n",
    "for epoch in range(20):\n",
    "    # Training phase\n",
    "    model.train()\n",
    "    running_loss = 0.0\n",
    "    correct_train = 0\n",
    "    total_train = 0\n",
    "    \n",
    "    for images, labels in trainloader:\n",
    "        images, labels = images.to(device), labels.to(device)\n",
    "        \n",
    "        optimizer.zero_grad()\n",
    "        outputs = model(images)\n",
    "        loss = criterion(outputs, labels)\n",
    "        loss.backward()\n",
    "        optimizer.step()\n",
    "        \n",
    "        running_loss += loss.item()\n",
    "        _, predicted = torch.max(outputs.data, 1)\n",
    "        total_train += labels.size(0)\n",
    "        correct_train += (predicted == labels).sum().item()\n",
    "    \n",
    "    scheduler.step()\n",
    "    \n",
    "    # Calculate training metrics\n",
    "    train_loss = running_loss / len(trainloader)\n",
    "    train_accuracy = 100 * correct_train / total_train\n",
    "    \n",
    "    # Evaluation phase\n",
    "    model.eval()\n",
    "    test_loss = 0.0\n",
    "    correct_test = 0\n",
    "    total_test = 0\n",
    "    \n",
    "    with torch.no_grad():\n",
    "        for images, labels in testloader:\n",
    "            images, labels = images.to(device), labels.to(device)\n",
    "            outputs = model(images)\n",
    "            loss = criterion(outputs, labels)\n",
    "            \n",
    "            test_loss += loss.item()\n",
    "            _, predicted = torch.max(outputs.data, 1)\n",
    "            total_test += labels.size(0)\n",
    "            correct_test += (predicted == labels).sum().item()\n",
    "    \n",
    "    # Calculate test metrics\n",
    "    test_loss = test_loss / len(testloader)\n",
    "    test_accuracy = 100 * correct_test / total_test\n",
    "    \n",
    "    # Store statistics\n",
    "    train_losses.append(train_loss)\n",
    "    train_accuracies.append(train_accuracy)\n",
    "    test_losses.append(test_loss)\n",
    "    test_accuracies.append(test_accuracy)\n",
    "    \n",
    "    # Print epoch statistics\n",
    "    print(f'Epoch [{epoch+1}/20] - '\n",
    "          f'Train Loss: {train_loss:.4f}, Train Acc: {train_accuracy:.2f}% - '\n",
    "          f'Test Loss: {test_loss:.4f}, Test Acc: {test_accuracy:.2f}%')\n",
    "\n",
    "print(\"Training completed!\")"
   ]
  },
  {
   "cell_type": "markdown",
   "id": "fb6ddc89",
   "metadata": {},
   "source": [
    "## Model Performance"
   ]
  },
  {
   "cell_type": "code",
   "execution_count": 36,
   "id": "0f5da240",
   "metadata": {},
   "outputs": [
    {
     "data": {
      "image/png": "[encoded data removed]",
      "text/plain": [
       "<Figure size 1200x500 with 2 Axes>"
      ]
     },
     "metadata": {},
     "output_type": "display_data"
    },
    {
     "name": "stdout",
     "output_type": "stream",
     "text": [
      "\n",
      "Final Results:\n",
      "Training Loss: 0.0005\n",
      "Training Accuracy: 100.00%\n",
      "Test Loss: 0.0152\n",
      "Test Accuracy: 99.55%\n"
     ]
    }
   ],
   "source": [
    "# Plotting training and test loss\n",
    "plt.figure(figsize=(12, 5))\n",
    "\n",
    "# Plot losses\n",
    "plt.subplot(1, 2, 1)\n",
    "plt.plot(range(1, 21), train_losses, 'b-', label='Training Loss', linewidth=2)\n",
    "plt.plot(range(1, 21), test_losses, 'r-', label='Test Loss', linewidth=2)\n",
    "plt.title('Training and Test Loss')\n",
    "plt.xlabel('Epoch')\n",
    "plt.ylabel('Loss')\n",
    "plt.legend()\n",
    "plt.grid(True, alpha=0.3)\n",
    "\n",
    "# Plot accuracies\n",
    "plt.subplot(1, 2, 2)\n",
    "plt.plot(range(1, 21), train_accuracies, 'b-', label='Training Accuracy', linewidth=2)\n",
    "plt.plot(range(1, 21), test_accuracies, 'r-', label='Test Accuracy', linewidth=2)\n",
    "plt.title('Training and Test Accuracy')\n",
    "plt.xlabel('Epoch')\n",
    "plt.ylabel('Accuracy (%)')\n",
    "plt.legend()\n",
    "plt.grid(True, alpha=0.3)\n",
    "\n",
    "plt.tight_layout()\n",
    "plt.show()\n",
    "\n",
    "# Print final statistics\n",
    "print(f\"\\nFinal Results:\")\n",
    "print(f\"Training Loss: {train_losses[-1]:.4f}\")\n",
    "print(f\"Training Accuracy: {train_accuracies[-1]:.2f}%\")\n",
    "print(f\"Test Loss: {test_losses[-1]:.4f}\")\n",
    "print(f\"Test Accuracy: {test_accuracies[-1]:.2f}%\")"
   ]
  },
  {
   "cell_type": "markdown",
   "id": "fae9fbcd",
   "metadata": {},
   "source": [
    "## Model Summary"
   ]
  },
  {
   "cell_type": "code",
   "execution_count": 37,
   "id": "bc38b65f",
   "metadata": {},
   "outputs": [
    {
     "name": "stdout",
     "output_type": "stream",
     "text": [
      "----------------------------------------------------------------\n",
      "        Layer (type)               Output Shape         Param #\n",
      "================================================================\n",
      "            Conv2d-1           [-1, 12, 28, 28]             120\n",
      "       BatchNorm2d-2           [-1, 12, 28, 28]              24\n",
      "            Conv2d-3           [-1, 24, 28, 28]           2,616\n",
      "       BatchNorm2d-4           [-1, 24, 28, 28]              48\n",
      "         MaxPool2d-5           [-1, 24, 14, 14]               0\n",
      "            Conv2d-6           [-1, 48, 14, 14]          10,416\n",
      "       BatchNorm2d-7           [-1, 48, 14, 14]              96\n",
      "            Conv2d-8           [-1, 48, 14, 14]          20,784\n",
      "       BatchNorm2d-9           [-1, 48, 14, 14]              96\n",
      "        MaxPool2d-10             [-1, 48, 7, 7]               0\n",
      "           Conv2d-11             [-1, 64, 7, 7]          27,712\n",
      "      BatchNorm2d-12             [-1, 64, 7, 7]             128\n",
      "           Conv2d-13             [-1, 64, 7, 7]          36,928\n",
      "      BatchNorm2d-14             [-1, 64, 7, 7]             128\n",
      "AdaptiveAvgPool2d-15             [-1, 64, 1, 1]               0\n",
      "          Dropout-16                   [-1, 64]               0\n",
      "           Linear-17                   [-1, 10]             650\n",
      "================================================================\n",
      "Total params: 99,746\n",
      "Trainable params: 99,746\n",
      "Non-trainable params: 0\n",
      "----------------------------------------------------------------\n",
      "Input size (MB): 0.00\n",
      "Forward/backward pass size (MB): 0.87\n",
      "Params size (MB): 0.38\n",
      "Estimated Total Size (MB): 1.25\n",
      "----------------------------------------------------------------\n"
     ]
    }
   ],
   "source": [
    "summary(model, input_size=(1, 28, 28))"
   ]
  },
  {
   "cell_type": "code",
   "execution_count": null,
   "id": "e27e029b",
   "metadata": {},
   "outputs": [],
   "source": []
  }
 ],
 "metadata": {
  "kernelspec": {
   "display_name": "assignment_4_1",
   "language": "python",
   "name": "python3"
  },
  "language_info": {
   "codemirror_mode": {
    "name": "ipython",
    "version": 3
   },
   "file_extension": ".py",
   "mimetype": "text/x-python",
   "name": "python",
   "nbconvert_exporter": "python",
   "pygments_lexer": "ipython3",
   "version": "3.10.18"
  }
 },
 "nbformat": 4,
 "nbformat_minor": 5
}
